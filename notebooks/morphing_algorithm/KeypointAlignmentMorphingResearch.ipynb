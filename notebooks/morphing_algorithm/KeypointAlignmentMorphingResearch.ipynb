{
 "cells": [
  {
   "cell_type": "markdown",
   "id": "39bf93ef-cdd7-4fa4-8771-16d25003009c",
   "metadata": {},
   "source": [
    "# Keypoint Alignment Morphing"
   ]
  },
  {
   "cell_type": "code",
   "execution_count": 1,
   "id": "e3d29e5b-ea00-40f7-916c-590faf38f987",
   "metadata": {},
   "outputs": [],
   "source": [
    "import os\n",
    "\n",
    "os.chdir(\"../..\")"
   ]
  },
  {
   "cell_type": "code",
   "execution_count": 2,
   "id": "febac355-3b93-4163-a4c7-d39d0d218275",
   "metadata": {},
   "outputs": [
    {
     "name": "stdout",
     "output_type": "stream",
     "text": [
      "/Users/wiktorlazarski/Desktop/my_project/face-morphing\n"
     ]
    }
   ],
   "source": [
    "!pwd"
   ]
  },
  {
   "cell_type": "code",
   "execution_count": 3,
   "id": "36e9a2fc-e86c-423a-934d-b14f7ebe9f6a",
   "metadata": {},
   "outputs": [],
   "source": [
    "import cv2\n",
    "import matplotlib.pyplot as plt\n",
    "import numpy as np\n",
    "\n",
    "plt.rcParams[\"figure.figsize\"] = (12, 10)"
   ]
  },
  {
   "cell_type": "code",
   "execution_count": 4,
   "id": "9e5384f6-4754-4337-b35b-ed80b26285de",
   "metadata": {},
   "outputs": [],
   "source": [
    "F_SAMPLE_ANN = os.path.join(\"data\", \"morph_samples\", \"1.txt\")\n",
    "F_SAMPLE_IMG = os.path.join(\"data\", \"morph_samples\", \"1.jpg\")\n",
    "\n",
    "S_SAMPLE_ANN = os.path.join(\"data\", \"morph_samples\", \"2.txt\")\n",
    "S_SAMPLE_IMG = os.path.join(\"data\", \"morph_samples\", \"2.jpg\")"
   ]
  },
  {
   "cell_type": "code",
   "execution_count": 5,
   "id": "26ead0c8-a71d-4afd-9119-3451c9beb460",
   "metadata": {},
   "outputs": [],
   "source": [
    "def load_sample(ann_file, img_file):\n",
    "    keypoints = []\n",
    "\n",
    "    with open(ann_file, \"r\") as ann_file:\n",
    "        for i, line in enumerate(ann_file.readlines()):\n",
    "            if i == 0:\n",
    "                continue\n",
    "        \n",
    "            coords = [float(val) for val in line.split(\",\")]\n",
    "            keypoints.append(tuple(coords))\n",
    "    \n",
    "    img = cv2.imread(img_file)\n",
    "    img = cv2.cvtColor(img, cv2.COLOR_BGR2RGB)\n",
    "    \n",
    "    return img, keypoints"
   ]
  },
  {
   "cell_type": "code",
   "execution_count": 6,
   "id": "01fd271a-bc7a-49c2-8896-d7609775c3bd",
   "metadata": {},
   "outputs": [],
   "source": [
    "f_img, f_kps = load_sample(F_SAMPLE_ANN, F_SAMPLE_IMG)\n",
    "s_img, s_kps = load_sample(S_SAMPLE_ANN, S_SAMPLE_IMG)"
   ]
  },
  {
   "cell_type": "code",
   "execution_count": 10,
   "id": "b098c55f-ec3b-4b94-b0ef-b3d26f9b9ae6",
   "metadata": {},
   "outputs": [],
   "source": [
    "f_h, f_w = f_img.shape[:2]\n",
    "s_resized = cv2.resize(s_img, (f_w, f_h))\n",
    "s_h, s_w = s_img.shape[:2]\n",
    "sx, sy = f_w / s_w, f_h / s_h\n",
    "new_s_kps = []\n",
    "\n",
    "for kp in s_kps:\n",
    "    x, y = kp\n",
    "    new_x = x * sx\n",
    "    new_y = y * sy\n",
    "    new_s_kps.append((round(new_x, 2), round(new_y, 2)))"
   ]
  },
  {
   "cell_type": "code",
   "execution_count": 17,
   "id": "c6c5a3cd-18fe-4d90-b037-639c319d756a",
   "metadata": {},
   "outputs": [],
   "source": [
    "out = cv2.findHomography(np.array(f_kps), np.array(new_s_kps))"
   ]
  },
  {
   "cell_type": "code",
   "execution_count": 19,
   "id": "15c8ff17-a04e-4eb5-952b-729df70a117b",
   "metadata": {},
   "outputs": [],
   "source": [
    "h_mat, status = out"
   ]
  },
  {
   "cell_type": "code",
   "execution_count": 20,
   "id": "7a647803-d947-49f3-b035-c362dec9b95d",
   "metadata": {},
   "outputs": [
    {
     "data": {
      "text/plain": [
       "array([[ 6.61138531e-01, -4.29275601e-01,  6.66195085e+02],\n",
       "       [ 1.10545590e-01,  3.58997806e-01,  1.11902948e+02],\n",
       "       [ 8.34051551e-06, -2.12059337e-04,  1.00000000e+00]])"
      ]
     },
     "execution_count": 20,
     "metadata": {},
     "output_type": "execute_result"
    }
   ],
   "source": [
    "h_mat"
   ]
  },
  {
   "cell_type": "code",
   "execution_count": 24,
   "id": "49e93314-7ee9-4617-814b-c8b137acb749",
   "metadata": {},
   "outputs": [
    {
     "data": {
      "text/plain": [
       "\u001b[0;31mDocstring:\u001b[0m\n",
       "warpPerspective(src, M, dsize[, dst[, flags[, borderMode[, borderValue]]]]) -> dst\n",
       ".   @brief Applies a perspective transformation to an image.\n",
       ".   \n",
       ".   The function warpPerspective transforms the source image using the specified matrix:\n",
       ".   \n",
       ".   \\f[\\texttt{dst} (x,y) =  \\texttt{src} \\left ( \\frac{M_{11} x + M_{12} y + M_{13}}{M_{31} x + M_{32} y + M_{33}} ,\n",
       ".        \\frac{M_{21} x + M_{22} y + M_{23}}{M_{31} x + M_{32} y + M_{33}} \\right )\\f]\n",
       ".   \n",
       ".   when the flag #WARP_INVERSE_MAP is set. Otherwise, the transformation is first inverted with invert\n",
       ".   and then put in the formula above instead of M. The function cannot operate in-place.\n",
       ".   \n",
       ".   @param src input image.\n",
       ".   @param dst output image that has the size dsize and the same type as src .\n",
       ".   @param M \\f$3\\times 3\\f$ transformation matrix.\n",
       ".   @param dsize size of the output image.\n",
       ".   @param flags combination of interpolation methods (#INTER_LINEAR or #INTER_NEAREST) and the\n",
       ".   optional flag #WARP_INVERSE_MAP, that sets M as the inverse transformation (\n",
       ".   \\f$\\texttt{dst}\\rightarrow\\texttt{src}\\f$ ).\n",
       ".   @param borderMode pixel extrapolation method (#BORDER_CONSTANT or #BORDER_REPLICATE).\n",
       ".   @param borderValue value used in case of a constant border; by default, it equals 0.\n",
       ".   \n",
       ".   @sa  warpAffine, resize, remap, getRectSubPix, perspectiveTransform\n",
       "\u001b[0;31mType:\u001b[0m      builtin_function_or_method\n"
      ]
     },
     "metadata": {},
     "output_type": "display_data"
    }
   ],
   "source": [
    "?cv2.warpPerspective"
   ]
  }
 ],
 "metadata": {
  "kernelspec": {
   "display_name": "Python 3 (ipykernel)",
   "language": "python",
   "name": "python3"
  },
  "language_info": {
   "codemirror_mode": {
    "name": "ipython",
    "version": 3
   },
   "file_extension": ".py",
   "mimetype": "text/x-python",
   "name": "python",
   "nbconvert_exporter": "python",
   "pygments_lexer": "ipython3",
   "version": "3.9.0"
  }
 },
 "nbformat": 4,
 "nbformat_minor": 5
}
