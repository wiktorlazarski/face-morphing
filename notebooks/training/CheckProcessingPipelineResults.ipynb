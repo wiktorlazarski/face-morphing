{
 "cells": [
  {
   "cell_type": "code",
   "execution_count": 221,
   "metadata": {},
   "outputs": [],
   "source": [
    "import os\n",
    "\n",
    "os.chdir(\"/home/aneta/Desktop/TWM/project/face-morphing\")"
   ]
  },
  {
   "cell_type": "code",
   "execution_count": 222,
   "metadata": {},
   "outputs": [
    {
     "name": "stdout",
     "output_type": "stream",
     "text": [
      "/home/aneta/Desktop/TWM/project/face-morphing\n"
     ]
    }
   ],
   "source": [
    "!pwd"
   ]
  },
  {
   "cell_type": "code",
   "execution_count": 223,
   "metadata": {},
   "outputs": [
    {
     "name": "stdout",
     "output_type": "stream",
     "text": [
      "The autoreload extension is already loaded. To reload it, use:\n",
      "  %reload_ext autoreload\n"
     ]
    }
   ],
   "source": [
    "import face_morphing.image_processing as ip\n",
    "from scripts.training import data_loading as dl\n",
    "\n",
    "%load_ext autoreload\n",
    "%autoreload 2\n"
   ]
  },
  {
   "cell_type": "code",
   "execution_count": 224,
   "metadata": {},
   "outputs": [],
   "source": [
    "DATASET_PATH = os.path.join(os.getcwd(), \"data\", \"dataset\", \"train\")\n",
    "\n",
    "preprocess_pipeline = ip.PreprocessingPipeline(nn_image_input_resolution=256)"
   ]
  },
  {
   "cell_type": "code",
   "execution_count": 225,
   "metadata": {},
   "outputs": [
    {
     "name": "stdout",
     "output_type": "stream",
     "text": [
      "(480, 633, 3)\n",
      "480\n",
      "633\n",
      "(341.11, 193.9)\n"
     ]
    }
   ],
   "source": [
    "dataset = dl.HelenFaceMorphingDataset(\n",
    "    dataset_root=DATASET_PATH\n",
    ")\n",
    "\n",
    "img, keypoints = dataset[48]\n",
    "print(img.shape)\n",
    "\n",
    "test_shape_x = img.shape[0]\n",
    "test_shape_y = img.shape[1]\n",
    "test = keypoints[134]\n",
    "print(test_shape_x)\n",
    "print(test_shape_y)\n",
    "print(test)\n"
   ]
  },
  {
   "cell_type": "code",
   "execution_count": 226,
   "metadata": {},
   "outputs": [
    {
     "name": "stdout",
     "output_type": "stream",
     "text": [
      "torch.Size([3, 256, 256])\n",
      "tensor([[[-0.5889, -0.6495, -0.6141,  ...,  0.3778,  0.3516,  0.3380],\n",
      "         [-0.5214, -0.5092, -0.5129,  ...,  0.4128,  0.3783,  0.3613],\n",
      "         [-0.5095, -0.4710, -0.4641,  ...,  0.4198,  0.4504,  0.4428],\n",
      "         ...,\n",
      "         [ 0.8141,  0.6763,  0.6084,  ..., -1.5061, -1.0852, -0.9833],\n",
      "         [ 0.7776,  0.6178,  0.5056,  ..., -1.3025, -1.0382, -1.2552],\n",
      "         [ 0.6999,  0.6731,  0.7860,  ..., -1.3175, -0.9872, -1.0796]],\n",
      "\n",
      "        [[-0.4726, -0.5345, -0.4983,  ...,  0.5157,  0.4890,  0.4750],\n",
      "         [-0.4035, -0.3912, -0.3949,  ...,  0.5515,  0.5163,  0.4988],\n",
      "         [-0.3914, -0.3521, -0.3450,  ...,  0.5586,  0.5900,  0.5822],\n",
      "         ...,\n",
      "         [ 0.9618,  0.8209,  0.7514,  ..., -1.4103, -0.9800, -0.8758],\n",
      "         [ 0.9244,  0.7611,  0.6463,  ..., -1.2021, -0.9319, -1.1538],\n",
      "         [ 0.8450,  0.8176,  0.9330,  ..., -1.2175, -0.8798, -0.9742]],\n",
      "\n",
      "        [[-0.2482, -0.3099, -0.2739,  ...,  0.7356,  0.7090,  0.6951],\n",
      "         [-0.1795, -0.1672, -0.1709,  ...,  0.7713,  0.7362,  0.7188],\n",
      "         [-0.1674, -0.1283, -0.1212,  ...,  0.7783,  0.8096,  0.8018],\n",
      "         ...,\n",
      "         [ 1.1797,  1.0394,  0.9703,  ..., -1.1818, -0.7534, -0.6497],\n",
      "         [ 1.1425,  0.9799,  0.8657,  ..., -0.9745, -0.7056, -0.9264],\n",
      "         [ 1.0635,  1.0362,  1.1510,  ..., -0.9898, -0.6537, -0.7477]]])\n",
      "639.5812500000001\n",
      "479.448046875\n",
      "[639.5812500000001, 479.448046875]\n"
     ]
    }
   ],
   "source": [
    "dataset = dl.HelenFaceMorphingDataset(\n",
    "    dataset_root=DATASET_PATH, \n",
    "    preprocess_pipeline=preprocess_pipeline\n",
    ")\n",
    "\n",
    "img, keypoints = dataset[48]\n",
    "print(img.shape)\n",
    "print(img)\n",
    "\n",
    "res_x = test_shape_x*test[0]/256\n",
    "res_y = test_shape_y*test[1]/256\n",
    "print(res_x)\n",
    "print(res_y)\n",
    "print(keypoints[134])\n",
    "\n",
    "assert res_x == keypoints[134][0]\n",
    "assert res_y == keypoints[134][1]\n"
   ]
  }
 ],
 "metadata": {
  "interpreter": {
   "hash": "31f2aee4e71d21fbe5cf8b01ff0e069b9275f58929596ceb00d14d90e3e16cd6"
  },
  "kernelspec": {
   "display_name": "Python 3.6.9 64-bit",
   "language": "python",
   "name": "python3"
  },
  "language_info": {
   "codemirror_mode": {
    "name": "ipython",
    "version": 3
   },
   "file_extension": ".py",
   "mimetype": "text/x-python",
   "name": "python",
   "nbconvert_exporter": "python",
   "pygments_lexer": "ipython3",
   "version": "3.6.9"
  },
  "orig_nbformat": 4
 },
 "nbformat": 4,
 "nbformat_minor": 2
}
